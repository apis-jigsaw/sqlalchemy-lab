{
 "cells": [
  {
   "cell_type": "markdown",
   "id": "bfba4006-39b7-4f6e-b7a8-2331ab45305c",
   "metadata": {},
   "source": [
    "# SqlAlchemy Setup Lab"
   ]
  },
  {
   "cell_type": "markdown",
   "id": "8e0c438b-078f-42e9-84bb-ef5f7139714f",
   "metadata": {},
   "source": [
    "### Introduction\n",
    "\n",
    "In this lesson, we'll practice connectig a database to sqlalchemy.  Let's get started."
   ]
  },
  {
   "cell_type": "markdown",
   "id": "fd7f3549-95cd-4c53-b7f9-d32ee18e161d",
   "metadata": {},
   "source": [
    "### Setting it up"
   ]
  },
  {
   "cell_type": "markdown",
   "id": "c1955fe8-2584-4f60-97d9-db9dced110ea",
   "metadata": {},
   "source": [
    "We should begin simply by working with postgres, to create a database, and load in some sample data."
   ]
  },
  {
   "cell_type": "markdown",
   "id": "6d6240a4-ba70-4913-88c8-e5041eb3233b",
   "metadata": {},
   "source": [
    "* Begin by creating a database called `moes_bar` in postgres."
   ]
  },
  {
   "cell_type": "markdown",
   "id": "210f0a4f-4fe2-43c8-b847-efd18c897bb7",
   "metadata": {},
   "source": [
    "* And then let's run the `migrations/create_tables.sql` file, and the `migrations/insert_data.sql` file against the database."
   ]
  },
  {
   "cell_type": "markdown",
   "id": "acf89da6-38e2-4291-be77-8f9b9e9eb880",
   "metadata": {},
   "source": [
    "> We can create our tables with something like the following:\n",
    "    \n",
    "```\n",
    "psql -d moes_bar -f migrations/create_tables.sql\n",
    "```"
   ]
  },
  {
   "cell_type": "markdown",
   "id": "2cacec6b-9ffa-463c-aa1f-babbe16a784e",
   "metadata": {},
   "source": [
    "Ok, then confirm that the bartenders are in the database, by logging in and running a select statement against the bartenders table."
   ]
  },
  {
   "cell_type": "markdown",
   "id": "8ffc3d7a-0d77-412c-9db7-0781559d8241",
   "metadata": {},
   "source": [
    "### Connecting SqlAlchemy to our database"
   ]
  },
  {
   "cell_type": "markdown",
   "id": "c19df501-87c3-4cd3-b648-7dea1598d21d",
   "metadata": {},
   "source": [
    "Ok, so now it's time to connect sqlalchemy to our database.  Look at the `__init__.py` and the `create_app` function.  \n",
    "\n",
    "Fill in the code to first create a flask application, and set the SQLALCHEMY_DATABASE_URI on that flask app.  Finally, we'll need to call the `db.init_app(app)` function and return the `app`."
   ]
  },
  {
   "cell_type": "markdown",
   "id": "51b44a0e-fbcc-4a35-bba3-21e09b26b569",
   "metadata": {},
   "source": [
    "* `server.py`"
   ]
  },
  {
   "cell_type": "markdown",
   "id": "46e08ea4-8825-4377-866b-e54814c00d9a",
   "metadata": {},
   "source": [
    "Ok, now if we move onto the `server.py` file.  We can see that this imports the create_app function that we just created as well as the db, and also imports a Bartender model from the `app.models`.  Take a look at the `models/__init__.py` file to see how we can import it from models.\n",
    "\n",
    "* `bartender.py`\n",
    "\n",
    "Now if we look at the `models/bartender.py` file, we can see that this is not exactly filled in.  So declare a Bartender class that has connects to our `db`, and also specifies the `__tablename__` along with the columns and the correct datatype."
   ]
  },
  {
   "cell_type": "markdown",
   "id": "109d42e3-3de6-43c6-a743-e4363e30e251",
   "metadata": {},
   "source": [
    "Then run the `pytest tests/test_bartender.py` file to confirm that this is working."
   ]
  },
  {
   "cell_type": "markdown",
   "id": "7a846cb7-b46d-4544-bf3f-19af66fed694",
   "metadata": {},
   "source": [
    "### Setting up the shell"
   ]
  },
  {
   "cell_type": "markdown",
   "id": "7071b184-a42e-4ddc-a07f-3dda957a8f7b",
   "metadata": {},
   "source": [
    "Ok, our next goal is to log into the shell and query a bartender."
   ]
  },
  {
   "cell_type": "markdown",
   "id": "f849d5b7-dd24-4b0d-a8c5-c6fe55d68de0",
   "metadata": {},
   "source": [
    "```bash\n",
    "flask shell\n",
    "```"
   ]
  },
  {
   "cell_type": "markdown",
   "id": "f6794668-a704-40b2-a540-fd716b0499eb",
   "metadata": {},
   "source": [
    "To do set this up, we should first the location of our app in our `.flaskenv` file.  So fill this in now."
   ]
  },
  {
   "cell_type": "markdown",
   "id": "cffbd247-0866-47d7-a917-f0984f581339",
   "metadata": {},
   "source": [
    "And if we are able to login, we'll see that we still cannot view our Bartender model."
   ]
  },
  {
   "cell_type": "markdown",
   "id": "58efd5a4-e07c-43fc-a296-269b02c67570",
   "metadata": {},
   "source": [
    "<img src=\"./bartender-undefined.png\" width=\"70%\">"
   ]
  },
  {
   "cell_type": "markdown",
   "id": "eb2dc627-6dd4-4efc-b3b6-4b77184f4b5e",
   "metadata": {
    "tags": []
   },
   "source": [
    "So fix this by using the `@app.shell_context_processor` decorator."
   ]
  },
  {
   "cell_type": "markdown",
   "id": "16b93e71-43e3-4ed0-801f-2214d8c449c4",
   "metadata": {},
   "source": [
    "From there, if we exit out of our flask shell and log back in, we should be able to query our Bartender, retrieve the first record, and see that bartender's name."
   ]
  },
  {
   "cell_type": "markdown",
   "id": "10f911c8-bccb-4758-ac77-1a25c487586f",
   "metadata": {},
   "source": [
    "<img src=\"./bartender-shell.png\">"
   ]
  },
  {
   "cell_type": "markdown",
   "id": "676e15ac-e409-4764-9385-920210d7252c",
   "metadata": {},
   "source": [
    "### Summary"
   ]
  },
  {
   "cell_type": "markdown",
   "id": "3be22023-c205-4ade-9fd7-dca967edaefe",
   "metadata": {},
   "source": [
    "In this lesson, we practiced connecting Sqlalchemy to our postgres database.  The key steps were to have a create_app function, where we declare an app that we connect to the correct postgres database, and then call db.init_app(app).\n",
    "```python\n",
    "def create_app():\n",
    "    app = Flask(__name__)\n",
    "    # fill in here\n",
    "    conn_str = \"postgresql://localhost:5432/moes_bar\"\n",
    "    app.config['SQLALCHEMY_DATABASE_URI'] = conn_str\n",
    "    db.init_app(app)\n",
    "    return app\n",
    "```\n",
    "\n",
    "We also had to declare our Bartender model with the proper table name and columns.  \n",
    "\n",
    "Finally we connected to the shell, by specifying the location of our flask app with the `.flaskenv` and with the help of our `@app.shell_context_processor` decorator."
   ]
  }
 ],
 "metadata": {
  "kernelspec": {
   "display_name": "Python 3 (ipykernel)",
   "language": "python",
   "name": "python3"
  },
  "language_info": {
   "codemirror_mode": {
    "name": "ipython",
    "version": 3
   },
   "file_extension": ".py",
   "mimetype": "text/x-python",
   "name": "python",
   "nbconvert_exporter": "python",
   "pygments_lexer": "ipython3",
   "version": "3.10.11"
  }
 },
 "nbformat": 4,
 "nbformat_minor": 5
}
